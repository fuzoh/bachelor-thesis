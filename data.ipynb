{
 "cells": [
  {
   "cell_type": "markdown",
   "id": "2166f830",
   "metadata": {},
   "source": [
    "Some simple scripts to manage datas"
   ]
  },
  {
   "cell_type": "code",
   "execution_count": 2,
   "id": "e68c9503",
   "metadata": {},
   "outputs": [],
   "source": [
    "import polars as pl"
   ]
  },
  {
   "cell_type": "code",
   "execution_count": null,
   "id": "17700091",
   "metadata": {},
   "outputs": [
    {
     "name": "stdout",
     "output_type": "stream",
     "text": [
      "shape: (12, 2)\n",
      "┌────────┬───────┐\n",
      "│ mesure ┆ count │\n",
      "│ ---    ┆ ---   │\n",
      "│ str    ┆ u32   │\n",
      "╞════════╪═══════╡\n",
      "│ m13    ┆ 9     │\n",
      "│ m5     ┆ 9     │\n",
      "│ m1     ┆ 9     │\n",
      "│ m17    ┆ 7     │\n",
      "│ m3     ┆ 7     │\n",
      "│ …      ┆ …     │\n",
      "│ m2     ┆ 6     │\n",
      "│ m6     ┆ 9     │\n",
      "│ m4     ┆ 9     │\n",
      "│ m10    ┆ 9     │\n",
      "│ m9     ┆ 9     │\n",
      "└────────┴───────┘\n"
     ]
    }
   ],
   "source": [
    "# Votes per measure\n",
    "data = pl.read_csv(\"assets/evaluation/data_kano.csv\", separator=\";\")\n",
    "\n",
    "measure_count = data.get_column(\"mesure\").value_counts()\n",
    "\n",
    "measure_count.write_csv(\"assets/evaluation/num_votes_per_measure.csv\")\n",
    "\n",
    "print(measure_count)"
   ]
  },
  {
   "cell_type": "code",
   "execution_count": 29,
   "id": "688f07a1",
   "metadata": {},
   "outputs": [
    {
     "name": "stdout",
     "output_type": "stream",
     "text": [
      "shape: (63, 4)\n",
      "┌────────┬─────────┬──────────┬───────┐\n",
      "│ mesure ┆ absence ┆ presence ┆ count │\n",
      "│ ---    ┆ ---     ┆ ---      ┆ ---   │\n",
      "│ str    ┆ i64     ┆ i64      ┆ u32   │\n",
      "╞════════╪═════════╪══════════╪═══════╡\n",
      "│ m2     ┆ 1       ┆ 5        ┆ 1     │\n",
      "│ m1     ┆ 1       ┆ 2        ┆ 1     │\n",
      "│ m10    ┆ 4       ┆ 2        ┆ 4     │\n",
      "│ m2     ┆ 1       ┆ 4        ┆ 1     │\n",
      "│ m6     ┆ 4       ┆ 1        ┆ 2     │\n",
      "│ …      ┆ …       ┆ …        ┆ …     │\n",
      "│ m5     ┆ 3       ┆ 3        ┆ 1     │\n",
      "│ m5     ┆ 3       ┆ 4        ┆ 1     │\n",
      "│ m11    ┆ 3       ┆ 3        ┆ 1     │\n",
      "│ m8     ┆ 3       ┆ 3        ┆ 1     │\n",
      "│ m11    ┆ 5       ┆ 1        ┆ 2     │\n",
      "└────────┴─────────┴──────────┴───────┘\n"
     ]
    }
   ],
   "source": [
    "import polars as pl\n",
    "# Count votes per position per measure\n",
    "data = pl.read_csv(\"assets/evaluation/data_kano.csv\", separator=\",\")\n",
    "\n",
    "measure_count = data.group_by(data.columns).agg(\n",
    "    count=pl.len()\n",
    ")\n",
    "\n",
    "measure_count.write_csv(\"assets/evaluation/cont_votes_per_position_and_measure.csv\")\n",
    "\n",
    "print(measure_count)"
   ]
  },
  {
   "cell_type": "code",
   "execution_count": 41,
   "id": "d4d10250",
   "metadata": {},
   "outputs": [
    {
     "name": "stdout",
     "output_type": "stream",
     "text": [
      "shape: (12, 7)\n",
      "┌────────┬────────────┬─────────────┬───────────┬────────────┬──────────────┬───────────┐\n",
      "│ mesure ┆ attractive ┆ performance ┆ reverse   ┆ indiferent ┆ questionable ┆ must-be   │\n",
      "│ ---    ┆ ---        ┆ ---         ┆ ---       ┆ ---        ┆ ---          ┆ ---       │\n",
      "│ str    ┆ f64        ┆ f64         ┆ f64       ┆ f64        ┆ f64          ┆ f64       │\n",
      "╞════════╪════════════╪═════════════╪═══════════╪════════════╪══════════════╪═══════════╡\n",
      "│ m10    ┆ 22.222222  ┆ 11.111111   ┆ 11.111111 ┆ 44.444444  ┆ 11.111111    ┆ 0.0       │\n",
      "│ m13    ┆ 22.222222  ┆ 33.333333   ┆ 11.111111 ┆ 22.222222  ┆ 0.0          ┆ 11.111111 │\n",
      "│ m1     ┆ 11.111111  ┆ 33.333333   ┆ 22.222222 ┆ 0.0        ┆ 0.0          ┆ 33.333333 │\n",
      "│ m8     ┆ 11.111111  ┆ 11.111111   ┆ 0.0       ┆ 77.777778  ┆ 0.0          ┆ 0.0       │\n",
      "│ m5     ┆ 0.0        ┆ 0.0         ┆ 22.222222 ┆ 77.777778  ┆ 0.0          ┆ 0.0       │\n",
      "│ …      ┆ …          ┆ …           ┆ …         ┆ …          ┆ …            ┆ …         │\n",
      "│ m9     ┆ 22.222222  ┆ 11.111111   ┆ 11.111111 ┆ 55.555556  ┆ 0.0          ┆ 0.0       │\n",
      "│ m3     ┆ 57.142857  ┆ 14.285714   ┆ 0.0       ┆ 28.571429  ┆ 0.0          ┆ 0.0       │\n",
      "│ m6     ┆ 22.222222  ┆ 22.222222   ┆ 11.111111 ┆ 44.444444  ┆ 0.0          ┆ 0.0       │\n",
      "│ m17    ┆ 14.285714  ┆ 28.571429   ┆ 0.0       ┆ 57.142857  ┆ 0.0          ┆ 0.0       │\n",
      "│ m2     ┆ 0.0        ┆ 0.0         ┆ 50.0      ┆ 16.666667  ┆ 0.0          ┆ 33.333333 │\n",
      "└────────┴────────────┴─────────────┴───────────┴────────────┴──────────────┴───────────┘\n"
     ]
    },
    {
     "name": "stderr",
     "output_type": "stream",
     "text": [
      "/tmp/ipykernel_593/2217593108.py:31: DeprecationWarning: the argument `columns` for `DataFrame.pivot` is deprecated. It was renamed to `on` in version 1.0.0.\n",
      "  final_pivot = results_with_percentage_lazy.collect().pivot(\n"
     ]
    }
   ],
   "source": [
    "import polars as pl\n",
    "\n",
    "# Data lazy loading\n",
    "data_df_lazy = pl.scan_csv(\"assets/evaluation/data_kano.csv\") # Data with coordinates in kano matrix for each measure\n",
    "categories_df_lazy = pl.scan_csv(\"assets/evaluation/kano_categories.csv\") # Kano's labels for each coordinates\n",
    "# Join the two dataframes to associates each data point from a measure with a Kano category label.\n",
    "joined_df_lazy = data_df_lazy.join(\n",
    "    categories_df_lazy,\n",
    "    on=['absence', 'presence'],\n",
    "    how='inner'\n",
    ")\n",
    "# Calculate the total number of data points for each measure for future percentage calculations.\n",
    "measure_totals_lazy = joined_df_lazy.group_by('mesure').agg(\n",
    "    pl.len().alias('total_per_measure')\n",
    ")\n",
    "# Count the occurrences of each category within each measure.\n",
    "category_counts_lazy = joined_df_lazy.group_by('mesure', 'category').agg(\n",
    "    pl.len().alias('category_count')\n",
    ")\n",
    "# Join the category counts with the measure totals.\n",
    "results_lazy = category_counts_lazy.join(\n",
    "    measure_totals_lazy,\n",
    "    on='mesure',\n",
    "    how='left'\n",
    ")\n",
    "# Calculate percentages\n",
    "results_with_percentage_lazy = results_lazy.with_columns(\n",
    "    (pl.col('category_count') / pl.col('total_per_measure') * 100).alias('percentage')\n",
    ")\n",
    "# Pivot the table to have measures as rows and categories as columns\n",
    "final_pivot = results_with_percentage_lazy.collect().pivot(\n",
    "    index='mesure',\n",
    "    columns='category',\n",
    "    values='percentage'\n",
    ").fill_null(0)\n",
    "final_pivot.write_csv(\"assets/evaluation/kano_matrix_table.csv\")\n",
    "print(final_pivot)"
   ]
  }
 ],
 "metadata": {
  "kernelspec": {
   "display_name": ".venv",
   "language": "python",
   "name": "python3"
  },
  "language_info": {
   "codemirror_mode": {
    "name": "ipython",
    "version": 3
   },
   "file_extension": ".py",
   "mimetype": "text/x-python",
   "name": "python",
   "nbconvert_exporter": "python",
   "pygments_lexer": "ipython3",
   "version": "3.13.5"
  }
 },
 "nbformat": 4,
 "nbformat_minor": 5
}
