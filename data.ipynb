{
 "cells": [
  {
   "cell_type": "markdown",
   "id": "2166f830",
   "metadata": {},
   "source": [
    "Some simple scripts to manage datas"
   ]
  },
  {
   "cell_type": "code",
   "execution_count": 1,
   "id": "e68c9503",
   "metadata": {},
   "outputs": [],
   "source": [
    "import polars as pl"
   ]
  },
  {
   "cell_type": "code",
   "execution_count": null,
   "id": "17700091",
   "metadata": {},
   "outputs": [
    {
     "name": "stdout",
     "output_type": "stream",
     "text": [
      "shape: (12, 2)\n",
      "┌────────┬───────┐\n",
      "│ mesure ┆ count │\n",
      "│ ---    ┆ ---   │\n",
      "│ str    ┆ u32   │\n",
      "╞════════╪═══════╡\n",
      "│ m13    ┆ 9     │\n",
      "│ m5     ┆ 9     │\n",
      "│ m1     ┆ 9     │\n",
      "│ m17    ┆ 7     │\n",
      "│ m3     ┆ 7     │\n",
      "│ …      ┆ …     │\n",
      "│ m2     ┆ 6     │\n",
      "│ m6     ┆ 9     │\n",
      "│ m4     ┆ 9     │\n",
      "│ m10    ┆ 9     │\n",
      "│ m9     ┆ 9     │\n",
      "└────────┴───────┘\n"
     ]
    }
   ],
   "source": [
    "# Votes per measure\n",
    "data = pl.read_csv(\"assets/evaluation/data_kano.csv\", separator=\";\")\n",
    "\n",
    "measure_count = data.get_column(\"mesure\").value_counts()\n",
    "\n",
    "measure_count.write_csv(\"assets/evaluation/num_votes_per_measure.csv\")\n",
    "\n",
    "print(measure_count)"
   ]
  }
 ],
 "metadata": {
  "kernelspec": {
   "display_name": ".venv",
   "language": "python",
   "name": "python3"
  },
  "language_info": {
   "codemirror_mode": {
    "name": "ipython",
    "version": 3
   },
   "file_extension": ".py",
   "mimetype": "text/x-python",
   "name": "python",
   "nbconvert_exporter": "python",
   "pygments_lexer": "ipython3",
   "version": "3.13.5"
  }
 },
 "nbformat": 4,
 "nbformat_minor": 5
}
